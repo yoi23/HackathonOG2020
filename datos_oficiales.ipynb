{
 "cells": [
  {
   "cell_type": "markdown",
   "metadata": {},
   "source": [
    "# Entregable 2: Respuestas - Preguntas Datos Oficiales"
   ]
  },
  {
   "cell_type": "markdown",
   "metadata": {},
   "source": [
    "## Lectura de archivo: Producción de Crudo de 2018 a 2020"
   ]
  },
  {
   "cell_type": "code",
   "execution_count": 1,
   "metadata": {},
   "outputs": [],
   "source": [
    "import pandas as pd\n",
    "import numpy as np\n",
    "import matplotlib.pyplot as plt\n",
    "\n",
    "\n",
    "# Leer archivo .xlsx con datos de produccion: 2018 a 2020\n",
    "df_2018_2020 = pd.read_excel('Datos_salida/Produccion_Fiscalizada_Crudo_DatosOficiales_2018-2020.xlsx')"
   ]
  },
  {
   "cell_type": "code",
   "execution_count": 2,
   "metadata": {},
   "outputs": [
    {
     "data": {
      "text/html": [
       "<div>\n",
       "<style scoped>\n",
       "    .dataframe tbody tr th:only-of-type {\n",
       "        vertical-align: middle;\n",
       "    }\n",
       "\n",
       "    .dataframe tbody tr th {\n",
       "        vertical-align: top;\n",
       "    }\n",
       "\n",
       "    .dataframe thead th {\n",
       "        text-align: right;\n",
       "    }\n",
       "</style>\n",
       "<table border=\"1\" class=\"dataframe\">\n",
       "  <thead>\n",
       "    <tr style=\"text-align: right;\">\n",
       "      <th></th>\n",
       "      <th>departamento</th>\n",
       "      <th>municipio</th>\n",
       "      <th>operadora</th>\n",
       "      <th>contrato</th>\n",
       "      <th>campo</th>\n",
       "      <th>año</th>\n",
       "      <th>mes</th>\n",
       "      <th>produccion</th>\n",
       "    </tr>\n",
       "  </thead>\n",
       "  <tbody>\n",
       "    <tr>\n",
       "      <th>0</th>\n",
       "      <td>ANTIOQUIA</td>\n",
       "      <td>PUERTO NARE</td>\n",
       "      <td>ECOPETROL S.A.</td>\n",
       "      <td>TECA COCORNA</td>\n",
       "      <td>AREA TECA-COCORNA</td>\n",
       "      <td>2020</td>\n",
       "      <td>ene</td>\n",
       "      <td>1765.84</td>\n",
       "    </tr>\n",
       "    <tr>\n",
       "      <th>1</th>\n",
       "      <td>ANTIOQUIA</td>\n",
       "      <td>PUERTO TRIUNFO</td>\n",
       "      <td>ECOPETROL S.A.</td>\n",
       "      <td>TECA COCORNA</td>\n",
       "      <td>AREA TECA-COCORNA</td>\n",
       "      <td>2020</td>\n",
       "      <td>ene</td>\n",
       "      <td>119.70</td>\n",
       "    </tr>\n",
       "    <tr>\n",
       "      <th>2</th>\n",
       "      <td>ANTIOQUIA</td>\n",
       "      <td>YONDO</td>\n",
       "      <td>ECOPETROL S.A.</td>\n",
       "      <td>MAGDALENA MEDIO</td>\n",
       "      <td>CASABE</td>\n",
       "      <td>2020</td>\n",
       "      <td>ene</td>\n",
       "      <td>11636.58</td>\n",
       "    </tr>\n",
       "    <tr>\n",
       "      <th>3</th>\n",
       "      <td>ANTIOQUIA</td>\n",
       "      <td>YONDO</td>\n",
       "      <td>ECOPETROL S.A.</td>\n",
       "      <td>MAGDALENA MEDIO</td>\n",
       "      <td>CASABE SUR</td>\n",
       "      <td>2020</td>\n",
       "      <td>ene</td>\n",
       "      <td>1852.60</td>\n",
       "    </tr>\n",
       "    <tr>\n",
       "      <th>4</th>\n",
       "      <td>ANTIOQUIA</td>\n",
       "      <td>PUERTO NARE</td>\n",
       "      <td>MANSAROVAR ENERGY COLOMBIA LTD</td>\n",
       "      <td>NARE</td>\n",
       "      <td>NARE SUR</td>\n",
       "      <td>2020</td>\n",
       "      <td>ene</td>\n",
       "      <td>187.33</td>\n",
       "    </tr>\n",
       "  </tbody>\n",
       "</table>\n",
       "</div>"
      ],
      "text/plain": [
       "  departamento       municipio                       operadora  \\\n",
       "0    ANTIOQUIA     PUERTO NARE                  ECOPETROL S.A.   \n",
       "1    ANTIOQUIA  PUERTO TRIUNFO                  ECOPETROL S.A.   \n",
       "2    ANTIOQUIA           YONDO                  ECOPETROL S.A.   \n",
       "3    ANTIOQUIA           YONDO                  ECOPETROL S.A.   \n",
       "4    ANTIOQUIA     PUERTO NARE  MANSAROVAR ENERGY COLOMBIA LTD   \n",
       "\n",
       "          contrato              campo   año  mes  produccion  \n",
       "0     TECA COCORNA  AREA TECA-COCORNA  2020  ene     1765.84  \n",
       "1     TECA COCORNA  AREA TECA-COCORNA  2020  ene      119.70  \n",
       "2  MAGDALENA MEDIO             CASABE  2020  ene    11636.58  \n",
       "3  MAGDALENA MEDIO         CASABE SUR  2020  ene     1852.60  \n",
       "4             NARE           NARE SUR  2020  ene      187.33  "
      ]
     },
     "execution_count": 2,
     "metadata": {},
     "output_type": "execute_result"
    }
   ],
   "source": [
    "# produccion de 2018 a 2020\n",
    "df_2018_2020.head()"
   ]
  },
  {
   "cell_type": "markdown",
   "metadata": {},
   "source": [
    "## Pregunta 1"
   ]
  },
  {
   "cell_type": "code",
   "execution_count": 3,
   "metadata": {
    "scrolled": false
   },
   "outputs": [
    {
     "data": {
      "text/html": [
       "<div>\n",
       "<style scoped>\n",
       "    .dataframe tbody tr th:only-of-type {\n",
       "        vertical-align: middle;\n",
       "    }\n",
       "\n",
       "    .dataframe tbody tr th {\n",
       "        vertical-align: top;\n",
       "    }\n",
       "\n",
       "    .dataframe thead th {\n",
       "        text-align: right;\n",
       "    }\n",
       "</style>\n",
       "<table border=\"1\" class=\"dataframe\">\n",
       "  <thead>\n",
       "    <tr style=\"text-align: right;\">\n",
       "      <th></th>\n",
       "      <th></th>\n",
       "      <th>produccion</th>\n",
       "    </tr>\n",
       "    <tr>\n",
       "      <th>campo</th>\n",
       "      <th>año</th>\n",
       "      <th></th>\n",
       "    </tr>\n",
       "  </thead>\n",
       "  <tbody>\n",
       "    <tr>\n",
       "      <th rowspan=\"3\" valign=\"top\">ABANICO</th>\n",
       "      <th>2018</th>\n",
       "      <td>7026.353072</td>\n",
       "    </tr>\n",
       "    <tr>\n",
       "      <th>2019</th>\n",
       "      <td>5597.890000</td>\n",
       "    </tr>\n",
       "    <tr>\n",
       "      <th>2020</th>\n",
       "      <td>3823.370000</td>\n",
       "    </tr>\n",
       "    <tr>\n",
       "      <th rowspan=\"2\" valign=\"top\">ABARCO</th>\n",
       "      <th>2018</th>\n",
       "      <td>43877.241182</td>\n",
       "    </tr>\n",
       "    <tr>\n",
       "      <th>2019</th>\n",
       "      <td>37827.370000</td>\n",
       "    </tr>\n",
       "    <tr>\n",
       "      <th>...</th>\n",
       "      <th>...</th>\n",
       "      <td>...</td>\n",
       "    </tr>\n",
       "    <tr>\n",
       "      <th rowspan=\"2\" valign=\"top\">ZOE</th>\n",
       "      <th>2019</th>\n",
       "      <td>29.600000</td>\n",
       "    </tr>\n",
       "    <tr>\n",
       "      <th>2020</th>\n",
       "      <td>12.840000</td>\n",
       "    </tr>\n",
       "    <tr>\n",
       "      <th rowspan=\"3\" valign=\"top\">ZOPILOTE</th>\n",
       "      <th>2018</th>\n",
       "      <td>16273.109197</td>\n",
       "    </tr>\n",
       "    <tr>\n",
       "      <th>2019</th>\n",
       "      <td>15350.670000</td>\n",
       "    </tr>\n",
       "    <tr>\n",
       "      <th>2020</th>\n",
       "      <td>7260.920000</td>\n",
       "    </tr>\n",
       "  </tbody>\n",
       "</table>\n",
       "<p>1226 rows × 1 columns</p>\n",
       "</div>"
      ],
      "text/plain": [
       "                 produccion\n",
       "campo    año               \n",
       "ABANICO  2018   7026.353072\n",
       "         2019   5597.890000\n",
       "         2020   3823.370000\n",
       "ABARCO   2018  43877.241182\n",
       "         2019  37827.370000\n",
       "...                     ...\n",
       "ZOE      2019     29.600000\n",
       "         2020     12.840000\n",
       "ZOPILOTE 2018  16273.109197\n",
       "         2019  15350.670000\n",
       "         2020   7260.920000\n",
       "\n",
       "[1226 rows x 1 columns]"
      ]
     },
     "execution_count": 3,
     "metadata": {},
     "output_type": "execute_result"
    }
   ],
   "source": [
    "# Ordenar Produccion por Campo (2018 a 2020)\n",
    "df_2018_2020.groupby(['campo','año']).sum()"
   ]
  },
  {
   "cell_type": "code",
   "execution_count": 4,
   "metadata": {
    "scrolled": true
   },
   "outputs": [
    {
     "name": "stdout",
     "output_type": "stream",
     "text": [
      "TOP 5 Campos con mayor producción durante 2020:\n"
     ]
    },
    {
     "data": {
      "text/html": [
       "<div>\n",
       "<style scoped>\n",
       "    .dataframe tbody tr th:only-of-type {\n",
       "        vertical-align: middle;\n",
       "    }\n",
       "\n",
       "    .dataframe tbody tr th {\n",
       "        vertical-align: top;\n",
       "    }\n",
       "\n",
       "    .dataframe thead th {\n",
       "        text-align: right;\n",
       "    }\n",
       "</style>\n",
       "<table border=\"1\" class=\"dataframe\">\n",
       "  <thead>\n",
       "    <tr style=\"text-align: right;\">\n",
       "      <th></th>\n",
       "      <th></th>\n",
       "      <th>produccion</th>\n",
       "    </tr>\n",
       "    <tr>\n",
       "      <th>campo</th>\n",
       "      <th>año</th>\n",
       "      <th></th>\n",
       "    </tr>\n",
       "  </thead>\n",
       "  <tbody>\n",
       "    <tr>\n",
       "      <th>RUBIALES</th>\n",
       "      <th>2020</th>\n",
       "      <td>857001.07</td>\n",
       "    </tr>\n",
       "    <tr>\n",
       "      <th>CASTILLA</th>\n",
       "      <th>2020</th>\n",
       "      <td>537068.14</td>\n",
       "    </tr>\n",
       "    <tr>\n",
       "      <th>CHICHIMENE</th>\n",
       "      <th>2020</th>\n",
       "      <td>388023.81</td>\n",
       "    </tr>\n",
       "    <tr>\n",
       "      <th>CASTILLA NORTE</th>\n",
       "      <th>2020</th>\n",
       "      <td>380005.77</td>\n",
       "    </tr>\n",
       "    <tr>\n",
       "      <th>QUIFA</th>\n",
       "      <th>2020</th>\n",
       "      <td>304783.67</td>\n",
       "    </tr>\n",
       "  </tbody>\n",
       "</table>\n",
       "</div>"
      ],
      "text/plain": [
       "                     produccion\n",
       "campo          año             \n",
       "RUBIALES       2020   857001.07\n",
       "CASTILLA       2020   537068.14\n",
       "CHICHIMENE     2020   388023.81\n",
       "CASTILLA NORTE 2020   380005.77\n",
       "QUIFA          2020   304783.67"
      ]
     },
     "execution_count": 4,
     "metadata": {},
     "output_type": "execute_result"
    }
   ],
   "source": [
    "# Pregunta 1\n",
    "# Ordenar Campos por Produccion (mayor a menor) en el 2020\n",
    "q1 = df_2018_2020.loc[df_2018_2020['año'] == 2020].groupby(['campo','año']).sum().sort_values('produccion',ascending = False)\n",
    "\n",
    "print('TOP 5 Campos con mayor producción durante 2020:')\n",
    "q1.head(5)"
   ]
  },
  {
   "cell_type": "code",
   "execution_count": 5,
   "metadata": {},
   "outputs": [
    {
     "data": {
      "image/png": "[encoded data removed]",
      "text/plain": [
       "<Figure size 432x288 with 1 Axes>"
      ]
     },
     "metadata": {
      "needs_background": "light"
     },
     "output_type": "display_data"
    }
   ],
   "source": [
    "# Grafica - Pregunta 1:\n",
    "top = 5 # Top 5 - Campos Productores en 2020\n",
    "\n",
    "# Obtener nombre de campos y valores de produccion para graficar:\n",
    "query1 = df_2018_2020.loc[df_2018_2020['año'] == 2020].groupby('campo').sum().sort_values('produccion',ascending = False)\n",
    "\n",
    "# Grafica\n",
    "plt.bar(query1.index[0:top],query1['produccion'].values[0:top]/1E6)\n",
    "plt.xticks(query1.index[0:top],fontsize = 10, rotation = 'vertical')\n",
    "plt.xlabel('Campos Productores')\n",
    "plt.ylabel('Produccion en 2020 [MMstb]')\n",
    "plt.title('Top 5: Campos con mayor producción - 2020')\n",
    "plt.show()"
   ]
  },
  {
   "cell_type": "markdown",
   "metadata": {},
   "source": [
    "## Pregunta 2"
   ]
  },
  {
   "cell_type": "code",
   "execution_count": 6,
   "metadata": {},
   "outputs": [
    {
     "data": {
      "text/plain": [
       "departamento\n",
       "CASANARE    2112\n",
       "dtype: int64"
      ]
     },
     "execution_count": 6,
     "metadata": {},
     "output_type": "execute_result"
    }
   ],
   "source": [
    "# Ordenar por Departamento\n",
    "df_2018_2020.loc[(df_2018_2020['año'] == 2018) & (df_2018_2020['departamento'] == 'CASANARE')].groupby('departamento').size().sort_values()"
   ]
  },
  {
   "cell_type": "code",
   "execution_count": 7,
   "metadata": {},
   "outputs": [
    {
     "data": {
      "text/html": [
       "<div>\n",
       "<style scoped>\n",
       "    .dataframe tbody tr th:only-of-type {\n",
       "        vertical-align: middle;\n",
       "    }\n",
       "\n",
       "    .dataframe tbody tr th {\n",
       "        vertical-align: top;\n",
       "    }\n",
       "\n",
       "    .dataframe thead th {\n",
       "        text-align: right;\n",
       "    }\n",
       "</style>\n",
       "<table border=\"1\" class=\"dataframe\">\n",
       "  <thead>\n",
       "    <tr style=\"text-align: right;\">\n",
       "      <th></th>\n",
       "      <th></th>\n",
       "      <th>produccion</th>\n",
       "    </tr>\n",
       "    <tr>\n",
       "      <th>operadora</th>\n",
       "      <th>año</th>\n",
       "      <th></th>\n",
       "    </tr>\n",
       "  </thead>\n",
       "  <tbody>\n",
       "    <tr>\n",
       "      <th>CANACOL ENERGY COLOMBIA SAS</th>\n",
       "      <th>2018</th>\n",
       "      <td>20995.926375</td>\n",
       "    </tr>\n",
       "    <tr>\n",
       "      <th>CARRAO ENERGY S.A. SUCURSAL COLOMIBA</th>\n",
       "      <th>2018</th>\n",
       "      <td>3130.220968</td>\n",
       "    </tr>\n",
       "    <tr>\n",
       "      <th>CEPSA COLOMBIA S.A.</th>\n",
       "      <th>2018</th>\n",
       "      <td>36395.023511</td>\n",
       "    </tr>\n",
       "    <tr>\n",
       "      <th>CNE OIL &amp; GAS S.A.S.</th>\n",
       "      <th>2018</th>\n",
       "      <td>8095.347237</td>\n",
       "    </tr>\n",
       "    <tr>\n",
       "      <th>COLOMBIA ENERGY DEVELOPMENT CO</th>\n",
       "      <th>2018</th>\n",
       "      <td>26626.991211</td>\n",
       "    </tr>\n",
       "    <tr>\n",
       "      <th>DCX S.A.S.</th>\n",
       "      <th>2018</th>\n",
       "      <td>107.803376</td>\n",
       "    </tr>\n",
       "    <tr>\n",
       "      <th>ECOPETROL S.A.</th>\n",
       "      <th>2018</th>\n",
       "      <td>205694.357535</td>\n",
       "    </tr>\n",
       "    <tr>\n",
       "      <th>EMERALD ENERGY PLC SUCURSAL COLOMBIA</th>\n",
       "      <th>2018</th>\n",
       "      <td>22116.701907</td>\n",
       "    </tr>\n",
       "    <tr>\n",
       "      <th>EQUION ENERGÍA LIMITED</th>\n",
       "      <th>2018</th>\n",
       "      <td>485507.624683</td>\n",
       "    </tr>\n",
       "    <tr>\n",
       "      <th>Frontera Energy Colombia Corp Sucursal Colombia</th>\n",
       "      <th>2018</th>\n",
       "      <td>132547.021704</td>\n",
       "    </tr>\n",
       "  </tbody>\n",
       "</table>\n",
       "</div>"
      ],
      "text/plain": [
       "                                                         produccion\n",
       "operadora                                       año                \n",
       "CANACOL ENERGY COLOMBIA SAS                     2018   20995.926375\n",
       "CARRAO ENERGY S.A. SUCURSAL COLOMIBA            2018    3130.220968\n",
       "CEPSA COLOMBIA S.A.                             2018   36395.023511\n",
       "CNE OIL & GAS S.A.S.                            2018    8095.347237\n",
       "COLOMBIA ENERGY DEVELOPMENT CO                  2018   26626.991211\n",
       "DCX S.A.S.                                      2018     107.803376\n",
       "ECOPETROL S.A.                                  2018  205694.357535\n",
       "EMERALD ENERGY PLC SUCURSAL COLOMBIA            2018   22116.701907\n",
       "EQUION ENERGÍA LIMITED                          2018  485507.624683\n",
       "Frontera Energy Colombia Corp Sucursal Colombia 2018  132547.021704"
      ]
     },
     "execution_count": 7,
     "metadata": {},
     "output_type": "execute_result"
    }
   ],
   "source": [
    "# Agrupar por Operadora (en Casanare en 2018)\n",
    "query2 = df_2018_2020.loc[(df_2018_2020['año'] == 2018) & (df_2018_2020['departamento'] == 'CASANARE')].groupby(['operadora','año']).sum()\n",
    "query2.head(10)"
   ]
  },
  {
   "cell_type": "code",
   "execution_count": 8,
   "metadata": {},
   "outputs": [],
   "source": [
    "# Ordenar Operadoras por numero de CAMPOS operados en CASANARE\n",
    "num_campos = 5 # numero minimo de CAMPOS donde opera\n",
    "operadoras = df_2018_2020.loc[(df_2018_2020['año'] == 2018) & (df_2018_2020['departamento'] == 'CASANARE')].groupby(['operadora','campo','año']).sum()\n",
    "lista_operadoras_ordenadas = operadoras.groupby('operadora').size().sort_values(ascending = False)\n",
    "top_operadoras = lista_operadoras_ordenadas[lista_operadoras_ordenadas > num_campos]\n"
   ]
  },
  {
   "cell_type": "code",
   "execution_count": 9,
   "metadata": {},
   "outputs": [
    {
     "name": "stdout",
     "output_type": "stream",
     "text": [
      "Número de Compañías con producción en más de 5 campos en Casanare (año 2018): 8\n",
      "\n",
      "\n",
      "operadora\n",
      "PERENCO COLOMBIA LIMITED                            34\n",
      "Frontera Energy Colombia Corp Sucursal Colombia     34\n",
      "GEOPARK COLOMBIA S.A.S.                             20\n",
      "ECOPETROL S.A.                                       9\n",
      "PAREX RESOURCES COLOMBIA LTD. SUCURSAL               7\n",
      "CEPSA COLOMBIA S.A.                                  6\n",
      "COLOMBIA ENERGY DEVELOPMENT CO                       6\n",
      "NEW GRANADA ENERGY CORPORATION SUCURSAL COLOMBIA     6\n",
      "dtype: int64\n"
     ]
    }
   ],
   "source": [
    "#Numero de Companias con Produccion en mas de 5 campos en Casanare \n",
    "print('Número de Compañías con producción en más de 5 campos en Casanare (año 2018):', top_operadoras.count())\n",
    "print('\\n')\n",
    "print(top_operadoras)"
   ]
  },
  {
   "cell_type": "code",
   "execution_count": 10,
   "metadata": {},
   "outputs": [
    {
     "data": {
      "image/png": "[encoded data removed]",
      "text/plain": [
       "<Figure size 432x288 with 1 Axes>"
      ]
     },
     "metadata": {
      "needs_background": "light"
     },
     "output_type": "display_data"
    }
   ],
   "source": [
    "# Grafica - Pregunta 2:\n",
    "num_campos = 5 # numero minimo de CAMPOS donde opera\n",
    "\n",
    "x = top_operadoras.index # Companias (Operadoras)\n",
    "y = top_operadoras.values # Numero de CAMPOS donde Operan\n",
    "\n",
    "bars = plt.bar(x, height = y, width = 0.7)\n",
    "xlocs, xlabs = plt.xticks()\n",
    "xlocs=[i for i in x]\n",
    "xlabs=[i for i in x]\n",
    "plt.xticks(xlocs, xlabs)\n",
    "\n",
    "for bar in bars:\n",
    "    yval = bar.get_height()\n",
    "    plt.text(bar.get_x(), yval - 2, yval, fontsize = 10)\n",
    "\n",
    "plt.xticks(top_operadoras.index,fontsize = 10, rotation = 'vertical')\n",
    "plt.xlabel('Operadoras')\n",
    "plt.ylabel('Número de Campos')\n",
    "plt.title('Compañías (Operadoras) con Producción en más de 5 campos en Casanare - 2018')\n",
    "plt.show()"
   ]
  },
  {
   "cell_type": "markdown",
   "metadata": {},
   "source": [
    "## Pregunta 3"
   ]
  },
  {
   "cell_type": "code",
   "execution_count": 11,
   "metadata": {},
   "outputs": [
    {
     "data": {
      "text/html": [
       "<div>\n",
       "<style scoped>\n",
       "    .dataframe tbody tr th:only-of-type {\n",
       "        vertical-align: middle;\n",
       "    }\n",
       "\n",
       "    .dataframe tbody tr th {\n",
       "        vertical-align: top;\n",
       "    }\n",
       "\n",
       "    .dataframe thead th {\n",
       "        text-align: right;\n",
       "    }\n",
       "</style>\n",
       "<table border=\"1\" class=\"dataframe\">\n",
       "  <thead>\n",
       "    <tr style=\"text-align: right;\">\n",
       "      <th></th>\n",
       "      <th></th>\n",
       "      <th>produccion</th>\n",
       "    </tr>\n",
       "    <tr>\n",
       "      <th>contrato</th>\n",
       "      <th>año</th>\n",
       "      <th></th>\n",
       "    </tr>\n",
       "  </thead>\n",
       "  <tbody>\n",
       "    <tr>\n",
       "      <th rowspan=\"3\" valign=\"top\">CUBARRAL</th>\n",
       "      <th>2019</th>\n",
       "      <td>2.197917e+06</td>\n",
       "    </tr>\n",
       "    <tr>\n",
       "      <th>2018</th>\n",
       "      <td>2.177189e+06</td>\n",
       "    </tr>\n",
       "    <tr>\n",
       "      <th>2020</th>\n",
       "      <td>1.460827e+06</td>\n",
       "    </tr>\n",
       "    <tr>\n",
       "      <th rowspan=\"2\" valign=\"top\">RUBIALES</th>\n",
       "      <th>2018</th>\n",
       "      <td>1.433612e+06</td>\n",
       "    </tr>\n",
       "    <tr>\n",
       "      <th>2019</th>\n",
       "      <td>1.431907e+06</td>\n",
       "    </tr>\n",
       "    <tr>\n",
       "      <th>...</th>\n",
       "      <th>...</th>\n",
       "      <td>...</td>\n",
       "    </tr>\n",
       "    <tr>\n",
       "      <th>CARBONERA</th>\n",
       "      <th>2020</th>\n",
       "      <td>4.800000e-01</td>\n",
       "    </tr>\n",
       "    <tr>\n",
       "      <th>VMM-32</th>\n",
       "      <th>2018</th>\n",
       "      <td>4.376774e-01</td>\n",
       "    </tr>\n",
       "    <tr>\n",
       "      <th>VIM-8</th>\n",
       "      <th>2018</th>\n",
       "      <td>2.719677e-01</td>\n",
       "    </tr>\n",
       "    <tr>\n",
       "      <th>VMM 12</th>\n",
       "      <th>2018</th>\n",
       "      <td>9.677419e-02</td>\n",
       "    </tr>\n",
       "    <tr>\n",
       "      <th>GUASIMO</th>\n",
       "      <th>2020</th>\n",
       "      <td>3.000000e-02</td>\n",
       "    </tr>\n",
       "  </tbody>\n",
       "</table>\n",
       "<p>485 rows × 1 columns</p>\n",
       "</div>"
      ],
      "text/plain": [
       "                  produccion\n",
       "contrato  año               \n",
       "CUBARRAL  2019  2.197917e+06\n",
       "          2018  2.177189e+06\n",
       "          2020  1.460827e+06\n",
       "RUBIALES  2018  1.433612e+06\n",
       "          2019  1.431907e+06\n",
       "...                      ...\n",
       "CARBONERA 2020  4.800000e-01\n",
       "VMM-32    2018  4.376774e-01\n",
       "VIM-8     2018  2.719677e-01\n",
       "VMM 12    2018  9.677419e-02\n",
       "GUASIMO   2020  3.000000e-02\n",
       "\n",
       "[485 rows x 1 columns]"
      ]
     },
     "execution_count": 11,
     "metadata": {},
     "output_type": "execute_result"
    }
   ],
   "source": [
    "# Ordenar (de mayor a menor produccion) Contratos \n",
    "df_2018_2020.groupby(['contrato','año']).sum().sort_values('produccion',ascending = False)"
   ]
  },
  {
   "cell_type": "code",
   "execution_count": 12,
   "metadata": {},
   "outputs": [
    {
     "name": "stdout",
     "output_type": "stream",
     "text": [
      "TOP 5 Contratos con más alta producción [MMstb] en 2018:\n"
     ]
    },
    {
     "data": {
      "text/html": [
       "<div>\n",
       "<style scoped>\n",
       "    .dataframe tbody tr th:only-of-type {\n",
       "        vertical-align: middle;\n",
       "    }\n",
       "\n",
       "    .dataframe tbody tr th {\n",
       "        vertical-align: top;\n",
       "    }\n",
       "\n",
       "    .dataframe thead th {\n",
       "        text-align: right;\n",
       "    }\n",
       "</style>\n",
       "<table border=\"1\" class=\"dataframe\">\n",
       "  <thead>\n",
       "    <tr style=\"text-align: right;\">\n",
       "      <th></th>\n",
       "      <th></th>\n",
       "      <th>produccion</th>\n",
       "    </tr>\n",
       "    <tr>\n",
       "      <th>contrato</th>\n",
       "      <th>año</th>\n",
       "      <th></th>\n",
       "    </tr>\n",
       "  </thead>\n",
       "  <tbody>\n",
       "    <tr>\n",
       "      <th>CUBARRAL</th>\n",
       "      <th>2018</th>\n",
       "      <td>2.177189</td>\n",
       "    </tr>\n",
       "    <tr>\n",
       "      <th>RUBIALES</th>\n",
       "      <th>2018</th>\n",
       "      <td>1.433612</td>\n",
       "    </tr>\n",
       "    <tr>\n",
       "      <th>LLA 34</th>\n",
       "      <th>2018</th>\n",
       "      <td>0.725580</td>\n",
       "    </tr>\n",
       "    <tr>\n",
       "      <th>QUIFA</th>\n",
       "      <th>2018</th>\n",
       "      <td>0.554438</td>\n",
       "    </tr>\n",
       "    <tr>\n",
       "      <th>LA CIRA INFANTAS</th>\n",
       "      <th>2018</th>\n",
       "      <td>0.542415</td>\n",
       "    </tr>\n",
       "  </tbody>\n",
       "</table>\n",
       "</div>"
      ],
      "text/plain": [
       "                       produccion\n",
       "contrato         año             \n",
       "CUBARRAL         2018    2.177189\n",
       "RUBIALES         2018    1.433612\n",
       "LLA 34           2018    0.725580\n",
       "QUIFA            2018    0.554438\n",
       "LA CIRA INFANTAS 2018    0.542415"
      ]
     },
     "execution_count": 12,
     "metadata": {},
     "output_type": "execute_result"
    }
   ],
   "source": [
    "# Pregunta 3\n",
    "# Ordenar Contratos por Produccion (mayor a menor) en el 2018\n",
    "q3 = df_2018_2020.loc[df_2018_2020['año'] == 2018].groupby(['contrato','año']).sum().sort_values('produccion',ascending = False).head(5)\n",
    "q3 /= 1e6\n",
    "\n",
    "print('TOP 5 Contratos con más alta producción [MMstb] en 2018:')\n",
    "q3"
   ]
  },
  {
   "cell_type": "code",
   "execution_count": 13,
   "metadata": {},
   "outputs": [
    {
     "data": {
      "image/png": "[encoded data removed]",
      "text/plain": [
       "<Figure size 432x288 with 1 Axes>"
      ]
     },
     "metadata": {
      "needs_background": "light"
     },
     "output_type": "display_data"
    }
   ],
   "source": [
    "# Grafica - Pregunta 3:\n",
    "top = 5 # Top 5 - CONTRATOS Productores en 2020\n",
    "\n",
    "# Obtener nombre de contratos y valores de produccion para graficar:\n",
    "query3 = df_2018_2020.loc[df_2018_2020['año'] == 2018].groupby(['contrato']).sum().sort_values('produccion',ascending = False)\n",
    "\n",
    "# Grafica\n",
    "plt.bar(query3.index[0:top],query3['produccion'].values[0:top]/1E6)\n",
    "plt.xticks(query3.index[0:top],fontsize = 10, rotation = 'vertical')\n",
    "plt.xlabel('CONTRATOS')\n",
    "plt.ylabel('Produccion en 2018 [MMstb]')\n",
    "plt.title('Top 5: Contratos con mayor producción [MMstb] - 2018')\n",
    "plt.show()"
   ]
  },
  {
   "cell_type": "markdown",
   "metadata": {},
   "source": [
    "## Pregunta 4"
   ]
  },
  {
   "cell_type": "code",
   "execution_count": 14,
   "metadata": {},
   "outputs": [
    {
     "data": {
      "text/html": [
       "<div>\n",
       "<style scoped>\n",
       "    .dataframe tbody tr th:only-of-type {\n",
       "        vertical-align: middle;\n",
       "    }\n",
       "\n",
       "    .dataframe tbody tr th {\n",
       "        vertical-align: top;\n",
       "    }\n",
       "\n",
       "    .dataframe thead th {\n",
       "        text-align: right;\n",
       "    }\n",
       "</style>\n",
       "<table border=\"1\" class=\"dataframe\">\n",
       "  <thead>\n",
       "    <tr style=\"text-align: right;\">\n",
       "      <th></th>\n",
       "      <th></th>\n",
       "      <th>produccion</th>\n",
       "    </tr>\n",
       "    <tr>\n",
       "      <th>operadora</th>\n",
       "      <th>año</th>\n",
       "      <th></th>\n",
       "    </tr>\n",
       "  </thead>\n",
       "  <tbody>\n",
       "    <tr>\n",
       "      <th rowspan=\"3\" valign=\"top\">ECOPETROL S.A.</th>\n",
       "      <th>2019</th>\n",
       "      <td>5.735906e+06</td>\n",
       "    </tr>\n",
       "    <tr>\n",
       "      <th>2018</th>\n",
       "      <td>5.633033e+06</td>\n",
       "    </tr>\n",
       "    <tr>\n",
       "      <th>2020</th>\n",
       "      <td>3.763143e+06</td>\n",
       "    </tr>\n",
       "    <tr>\n",
       "      <th rowspan=\"2\" valign=\"top\">Frontera Energy Colombia Corp Sucursal Colombia</th>\n",
       "      <th>2019</th>\n",
       "      <td>9.631013e+05</td>\n",
       "    </tr>\n",
       "    <tr>\n",
       "      <th>2018</th>\n",
       "      <td>9.102311e+05</td>\n",
       "    </tr>\n",
       "    <tr>\n",
       "      <th>...</th>\n",
       "      <th>...</th>\n",
       "      <td>...</td>\n",
       "    </tr>\n",
       "    <tr>\n",
       "      <th rowspan=\"2\" valign=\"top\">GEOPRODUCTION OIL AND GAS COMPANY OF COLOMBIA</th>\n",
       "      <th>2019</th>\n",
       "      <td>3.010000e+00</td>\n",
       "    </tr>\n",
       "    <tr>\n",
       "      <th>2020</th>\n",
       "      <td>2.270000e+00</td>\n",
       "    </tr>\n",
       "    <tr>\n",
       "      <th>LAGOSUR PETROLEUM COLOMBIA INC SUCURSAL COLOMBIA</th>\n",
       "      <th>2018</th>\n",
       "      <td>1.769355e+00</td>\n",
       "    </tr>\n",
       "    <tr>\n",
       "      <th>WATTLE PETROLEUM COMPANY S.A.S</th>\n",
       "      <th>2020</th>\n",
       "      <td>4.800000e-01</td>\n",
       "    </tr>\n",
       "    <tr>\n",
       "      <th>INGENIERIA CONSTRUCCIONES Y EQUIPOS CONEQUIPOS ING S.A.S.</th>\n",
       "      <th>2018</th>\n",
       "      <td>9.677419e-02</td>\n",
       "    </tr>\n",
       "  </tbody>\n",
       "</table>\n",
       "<p>127 rows × 1 columns</p>\n",
       "</div>"
      ],
      "text/plain": [
       "                                                           produccion\n",
       "operadora                                          año               \n",
       "ECOPETROL S.A.                                     2019  5.735906e+06\n",
       "                                                   2018  5.633033e+06\n",
       "                                                   2020  3.763143e+06\n",
       "Frontera Energy Colombia Corp Sucursal Colombia    2019  9.631013e+05\n",
       "                                                   2018  9.102311e+05\n",
       "...                                                               ...\n",
       "GEOPRODUCTION OIL AND GAS COMPANY OF COLOMBIA      2019  3.010000e+00\n",
       "                                                   2020  2.270000e+00\n",
       "LAGOSUR PETROLEUM COLOMBIA INC SUCURSAL COLOMBIA   2018  1.769355e+00\n",
       "WATTLE PETROLEUM COMPANY S.A.S                     2020  4.800000e-01\n",
       "INGENIERIA CONSTRUCCIONES Y EQUIPOS CONEQUIPOS ... 2018  9.677419e-02\n",
       "\n",
       "[127 rows x 1 columns]"
      ]
     },
     "execution_count": 14,
     "metadata": {},
     "output_type": "execute_result"
    }
   ],
   "source": [
    "# Ordenar (de mayor a menor produccion) Operadoras  \n",
    "df_2018_2020.groupby(['operadora','año']).sum().sort_values('produccion',ascending = False)"
   ]
  },
  {
   "cell_type": "code",
   "execution_count": 15,
   "metadata": {},
   "outputs": [],
   "source": [
    "# Pregunta 4\n",
    "# Ordenar OPERADORAS por Produccion (mayor a menor) en Agosto (2019)\n",
    "query4 = df_2018_2020.loc[(df_2018_2020['año'] == 2019) & (df_2018_2020['mes'] == 'ago' )].groupby('operadora').sum().sort_values('produccion',ascending = False)"
   ]
  },
  {
   "cell_type": "code",
   "execution_count": 16,
   "metadata": {},
   "outputs": [
    {
     "name": "stdout",
     "output_type": "stream",
     "text": [
      "Top 10 Operadoras con más alta producción en Agosto - 2019:\n",
      "\n",
      "\n",
      "operadora\n",
      "ECOPETROL S.A.                                     473986.41\n",
      "Frontera Energy Colombia Corp Sucursal Colombia     81441.68\n",
      "GEOPARK COLOMBIA S.A.S.                             69154.42\n",
      "OCCIDENTAL DE COLOMBIA LLC                          53299.12\n",
      "EQUION ENERGÍA LIMITED                              34950.01\n",
      "GRAN TIERRA ENERGY COLOMBIA LTD                     29555.20\n",
      "MANSAROVAR ENERGY COLOMBIA LTD                      25256.75\n",
      "HOCOL S.A.                                          19614.02\n",
      "PAREX RESOURCES COLOMBIA LTD. SUCURSAL              15727.97\n",
      "CEPSA COLOMBIA S.A.                                 12702.09\n",
      "Name: produccion, dtype: float64\n"
     ]
    }
   ],
   "source": [
    "print('Top 10 Operadoras con más alta producción en Agosto - 2019:')\n",
    "print('\\n')\n",
    "print(query4.head(10)['produccion'])"
   ]
  },
  {
   "cell_type": "code",
   "execution_count": 17,
   "metadata": {},
   "outputs": [
    {
     "data": {
      "image/png": "[encoded data removed]",
      "text/plain": [
       "<Figure size 432x288 with 1 Axes>"
      ]
     },
     "metadata": {
      "needs_background": "light"
     },
     "output_type": "display_data"
    }
   ],
   "source": [
    "# Grafica - Pregunta 4:\n",
    "top = 10 # Top 10 - OPERADORAS por produccion en Agosto, 2019\n",
    "\n",
    "plt.bar(query4.index[0:top],query4['produccion'].values[0:top]/1E6)\n",
    "\n",
    "plt.xticks(query4.index[0:top],fontsize = 10, rotation = 'vertical')\n",
    "plt.xlabel('OPERADORAS')\n",
    "plt.ylabel('Produccion en Agosto (2019) [MMstb]')\n",
    "plt.title('Top 10: OPERADORAS con mayor producción - Agosto 2019')\n",
    "plt.show()"
   ]
  },
  {
   "cell_type": "markdown",
   "metadata": {},
   "source": [
    "## Pregunta 5"
   ]
  },
  {
   "cell_type": "code",
   "execution_count": 18,
   "metadata": {},
   "outputs": [
    {
     "data": {
      "text/html": [
       "<div>\n",
       "<style scoped>\n",
       "    .dataframe tbody tr th:only-of-type {\n",
       "        vertical-align: middle;\n",
       "    }\n",
       "\n",
       "    .dataframe tbody tr th {\n",
       "        vertical-align: top;\n",
       "    }\n",
       "\n",
       "    .dataframe thead th {\n",
       "        text-align: right;\n",
       "    }\n",
       "</style>\n",
       "<table border=\"1\" class=\"dataframe\">\n",
       "  <thead>\n",
       "    <tr style=\"text-align: right;\">\n",
       "      <th></th>\n",
       "      <th>año</th>\n",
       "      <th>Trimestre1</th>\n",
       "      <th>Trimestre2</th>\n",
       "    </tr>\n",
       "  </thead>\n",
       "  <tbody>\n",
       "    <tr>\n",
       "      <th>0</th>\n",
       "      <td>2018</td>\n",
       "      <td>2.540703e+06</td>\n",
       "      <td>2.594491e+06</td>\n",
       "    </tr>\n",
       "    <tr>\n",
       "      <th>1</th>\n",
       "      <td>2019</td>\n",
       "      <td>2.676538e+06</td>\n",
       "      <td>2.677717e+06</td>\n",
       "    </tr>\n",
       "    <tr>\n",
       "      <th>2</th>\n",
       "      <td>2020</td>\n",
       "      <td>2.619417e+06</td>\n",
       "      <td>2.258345e+06</td>\n",
       "    </tr>\n",
       "  </tbody>\n",
       "</table>\n",
       "</div>"
      ],
      "text/plain": [
       "    año    Trimestre1    Trimestre2\n",
       "0  2018  2.540703e+06  2.594491e+06\n",
       "1  2019  2.676538e+06  2.677717e+06\n",
       "2  2020  2.619417e+06  2.258345e+06"
      ]
     },
     "execution_count": 18,
     "metadata": {},
     "output_type": "execute_result"
    }
   ],
   "source": [
    "# Calcular produccion Total por TRIMESTRES\n",
    "q5_t1 = df_2018_2020.loc[(df_2018_2020['mes'] == 'ene') | (df_2018_2020['mes'] == 'feb' )| (df_2018_2020['mes'] == 'mar')].groupby('año',as_index = False).sum() # Trimestre 1\n",
    "q5_t2 = df_2018_2020.loc[(df_2018_2020['mes'] == 'abr') | (df_2018_2020['mes'] == 'may' )| (df_2018_2020['mes'] == 'jun')].groupby('año',as_index = False).sum() # Trimestre 2\n",
    "\n",
    "query5_t1_t2 = pd.concat([q5_t1, q5_t2['produccion']], axis=1)\n",
    "query5_t1_t2.columns = ['año','Trimestre1','Trimestre2']\n",
    "query5_t1_t2"
   ]
  },
  {
   "cell_type": "code",
   "execution_count": 19,
   "metadata": {},
   "outputs": [
    {
     "data": {
      "text/plain": [
       "Index(['Trimestre1', 'Trimestre2'], dtype='object')"
      ]
     },
     "execution_count": 19,
     "metadata": {},
     "output_type": "execute_result"
    }
   ],
   "source": [
    "query5_t1_t2.columns[1:]"
   ]
  },
  {
   "cell_type": "code",
   "execution_count": 20,
   "metadata": {},
   "outputs": [
    {
     "data": {
      "image/png": "[encoded data removed]",
      "text/plain": [
       "<Figure size 432x288 with 1 Axes>"
      ]
     },
     "metadata": {
      "needs_background": "light"
     },
     "output_type": "display_data"
    }
   ],
   "source": [
    "# Grafica: Pregunta 5\n",
    "# Analisis Comparativo: Produccion en Trimestres 1 y 2 (2019 y 2020)\n",
    "\n",
    "x = query5_t1_t2.columns[1:] # Trimestre 1 y 2\n",
    "y19 = query5_t1_t2.iloc[1][1:]/1e6 # Produccion total [MMstb] por trimestre - 2019\n",
    "y20 = query5_t1_t2.iloc[2][1:]/1e6 # Produccion total [MMstb] por trimestre - 2020\n",
    "\n",
    "plt.plot(y19,marker = 'D', label = '2019')\n",
    "plt.plot(y20,marker = 'D', label = '2020')\n",
    "plt.xticks(x)\n",
    "plt.legend()\n",
    "plt.xlabel('TRIMESTRES')\n",
    "plt.ylabel('Produccion Total por trimestre [MMstb]')\n",
    "plt.title('Comparación de Producción Trimestres 1 y 2 (Años: 2019 y 2020)\\nTrimestre 1: Enero a Marzo\\nTrimestre 2: Abril a Junio')\n",
    "plt.show()"
   ]
  }
 ],
 "metadata": {
  "kernelspec": {
   "display_name": "Python 3",
   "language": "python",
   "name": "python3"
  },
  "language_info": {
   "codemirror_mode": {
    "name": "ipython",
    "version": 3
   },
   "file_extension": ".py",
   "mimetype": "text/x-python",
   "name": "python",
   "nbconvert_exporter": "python",
   "pygments_lexer": "ipython3",
   "version": "3.8.3"
  }
 },
 "nbformat": 4,
 "nbformat_minor": 4
}
