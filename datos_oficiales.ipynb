{
 "cells": [
  {
   "cell_type": "markdown",
   "metadata": {},
   "source": [
    "# Entregable 2: Archivo Respuestas - Preguntas Datos Oficiales"
   ]
  },
  {
   "cell_type": "markdown",
   "metadata": {},
   "source": [
    "## Lectura de archivo: Producción de Crudo de 2018 a 2020"
   ]
  },
  {
   "cell_type": "code",
   "execution_count": 1,
   "metadata": {},
   "outputs": [],
   "source": [
    "import pandas as pd\n",
    "import numpy as np\n",
    "import matplotlib.pyplot as plt\n",
    "\n",
    "\n",
    "# Leer archivo .xlsx con datos de produccion: 2018 a 2020\n",
    "df_2018_2020 = pd.read_excel('Datos_salida/Produccion_Fiscalizada_Crudo_DatosOficiales_2018-2020.xlsx')"
   ]
  },
  {
   "cell_type": "code",
   "execution_count": 2,
   "metadata": {},
   "outputs": [
    {
     "data": {
      "text/html": [
       "<div>\n",
       "<style scoped>\n",
       "    .dataframe tbody tr th:only-of-type {\n",
       "        vertical-align: middle;\n",
       "    }\n",
       "\n",
       "    .dataframe tbody tr th {\n",
       "        vertical-align: top;\n",
       "    }\n",
       "\n",
       "    .dataframe thead th {\n",
       "        text-align: right;\n",
       "    }\n",
       "</style>\n",
       "<table border=\"1\" class=\"dataframe\">\n",
       "  <thead>\n",
       "    <tr style=\"text-align: right;\">\n",
       "      <th></th>\n",
       "      <th>departamento</th>\n",
       "      <th>municipio</th>\n",
       "      <th>operadora</th>\n",
       "      <th>contrato</th>\n",
       "      <th>campo</th>\n",
       "      <th>año</th>\n",
       "      <th>mes</th>\n",
       "      <th>produccion</th>\n",
       "    </tr>\n",
       "  </thead>\n",
       "  <tbody>\n",
       "    <tr>\n",
       "      <th>0</th>\n",
       "      <td>ANTIOQUIA</td>\n",
       "      <td>PUERTO NARE</td>\n",
       "      <td>ECOPETROL S.A.</td>\n",
       "      <td>TECA COCORNA</td>\n",
       "      <td>AREA TECA-COCORNA</td>\n",
       "      <td>2020</td>\n",
       "      <td>ene</td>\n",
       "      <td>1765.84</td>\n",
       "    </tr>\n",
       "    <tr>\n",
       "      <th>1</th>\n",
       "      <td>ANTIOQUIA</td>\n",
       "      <td>PUERTO TRIUNFO</td>\n",
       "      <td>ECOPETROL S.A.</td>\n",
       "      <td>TECA COCORNA</td>\n",
       "      <td>AREA TECA-COCORNA</td>\n",
       "      <td>2020</td>\n",
       "      <td>ene</td>\n",
       "      <td>119.70</td>\n",
       "    </tr>\n",
       "    <tr>\n",
       "      <th>2</th>\n",
       "      <td>ANTIOQUIA</td>\n",
       "      <td>YONDO</td>\n",
       "      <td>ECOPETROL S.A.</td>\n",
       "      <td>MAGDALENA MEDIO</td>\n",
       "      <td>CASABE</td>\n",
       "      <td>2020</td>\n",
       "      <td>ene</td>\n",
       "      <td>11636.58</td>\n",
       "    </tr>\n",
       "    <tr>\n",
       "      <th>3</th>\n",
       "      <td>ANTIOQUIA</td>\n",
       "      <td>YONDO</td>\n",
       "      <td>ECOPETROL S.A.</td>\n",
       "      <td>MAGDALENA MEDIO</td>\n",
       "      <td>CASABE SUR</td>\n",
       "      <td>2020</td>\n",
       "      <td>ene</td>\n",
       "      <td>1852.60</td>\n",
       "    </tr>\n",
       "    <tr>\n",
       "      <th>4</th>\n",
       "      <td>ANTIOQUIA</td>\n",
       "      <td>PUERTO NARE</td>\n",
       "      <td>MANSAROVAR ENERGY COLOMBIA LTD</td>\n",
       "      <td>NARE</td>\n",
       "      <td>NARE SUR</td>\n",
       "      <td>2020</td>\n",
       "      <td>ene</td>\n",
       "      <td>187.33</td>\n",
       "    </tr>\n",
       "  </tbody>\n",
       "</table>\n",
       "</div>"
      ],
      "text/plain": [
       "  departamento       municipio                       operadora  \\\n",
       "0    ANTIOQUIA     PUERTO NARE                  ECOPETROL S.A.   \n",
       "1    ANTIOQUIA  PUERTO TRIUNFO                  ECOPETROL S.A.   \n",
       "2    ANTIOQUIA           YONDO                  ECOPETROL S.A.   \n",
       "3    ANTIOQUIA           YONDO                  ECOPETROL S.A.   \n",
       "4    ANTIOQUIA     PUERTO NARE  MANSAROVAR ENERGY COLOMBIA LTD   \n",
       "\n",
       "          contrato              campo   año  mes  produccion  \n",
       "0     TECA COCORNA  AREA TECA-COCORNA  2020  ene     1765.84  \n",
       "1     TECA COCORNA  AREA TECA-COCORNA  2020  ene      119.70  \n",
       "2  MAGDALENA MEDIO             CASABE  2020  ene    11636.58  \n",
       "3  MAGDALENA MEDIO         CASABE SUR  2020  ene     1852.60  \n",
       "4             NARE           NARE SUR  2020  ene      187.33  "
      ]
     },
     "execution_count": 2,
     "metadata": {},
     "output_type": "execute_result"
    }
   ],
   "source": [
    "# produccion de 2018 a 2020\n",
    "df_2018_2020.head()"
   ]
  },
  {
   "cell_type": "markdown",
   "metadata": {},
   "source": [
    "## Pregunta 1"
   ]
  },
  {
   "cell_type": "code",
   "execution_count": 3,
   "metadata": {
    "scrolled": true
   },
   "outputs": [
    {
     "name": "stdout",
     "output_type": "stream",
     "text": [
      "Respuesta - Pregunta 1:\n",
      "\n",
      "TOP 5 Campos con mayor producción durante 2020:\n"
     ]
    },
    {
     "data": {
      "text/html": [
       "<div>\n",
       "<style scoped>\n",
       "    .dataframe tbody tr th:only-of-type {\n",
       "        vertical-align: middle;\n",
       "    }\n",
       "\n",
       "    .dataframe tbody tr th {\n",
       "        vertical-align: top;\n",
       "    }\n",
       "\n",
       "    .dataframe thead th {\n",
       "        text-align: right;\n",
       "    }\n",
       "</style>\n",
       "<table border=\"1\" class=\"dataframe\">\n",
       "  <thead>\n",
       "    <tr style=\"text-align: right;\">\n",
       "      <th></th>\n",
       "      <th></th>\n",
       "      <th>produccion</th>\n",
       "    </tr>\n",
       "    <tr>\n",
       "      <th>campo</th>\n",
       "      <th>año</th>\n",
       "      <th></th>\n",
       "    </tr>\n",
       "  </thead>\n",
       "  <tbody>\n",
       "    <tr>\n",
       "      <th>RUBIALES</th>\n",
       "      <th>2020</th>\n",
       "      <td>857001.07</td>\n",
       "    </tr>\n",
       "    <tr>\n",
       "      <th>CASTILLA</th>\n",
       "      <th>2020</th>\n",
       "      <td>537068.14</td>\n",
       "    </tr>\n",
       "    <tr>\n",
       "      <th>CHICHIMENE</th>\n",
       "      <th>2020</th>\n",
       "      <td>388023.81</td>\n",
       "    </tr>\n",
       "    <tr>\n",
       "      <th>CASTILLA NORTE</th>\n",
       "      <th>2020</th>\n",
       "      <td>380005.77</td>\n",
       "    </tr>\n",
       "    <tr>\n",
       "      <th>QUIFA</th>\n",
       "      <th>2020</th>\n",
       "      <td>304783.67</td>\n",
       "    </tr>\n",
       "  </tbody>\n",
       "</table>\n",
       "</div>"
      ],
      "text/plain": [
       "                     produccion\n",
       "campo          año             \n",
       "RUBIALES       2020   857001.07\n",
       "CASTILLA       2020   537068.14\n",
       "CHICHIMENE     2020   388023.81\n",
       "CASTILLA NORTE 2020   380005.77\n",
       "QUIFA          2020   304783.67"
      ]
     },
     "execution_count": 3,
     "metadata": {},
     "output_type": "execute_result"
    }
   ],
   "source": [
    "# Pregunta 1\n",
    "# Ordenar Campos por Produccion (mayor a menor) en el 2020\n",
    "q1 = df_2018_2020.loc[df_2018_2020['año'] == 2020].groupby(['campo','año']).sum().sort_values('produccion',ascending = False)\n",
    "\n",
    "print('Respuesta - Pregunta 1:\\n')\n",
    "print('TOP 5 Campos con mayor producción durante 2020:')\n",
    "q1.head(5)"
   ]
  },
  {
   "cell_type": "code",
   "execution_count": 4,
   "metadata": {},
   "outputs": [
    {
     "name": "stdout",
     "output_type": "stream",
     "text": [
      "Grafico - Pregunta 1:\n",
      "\n"
     ]
    },
    {
     "data": {
      "image/png": "[encoded data removed]",
      "text/plain": [
       "<Figure size 432x288 with 1 Axes>"
      ]
     },
     "metadata": {
      "needs_background": "light"
     },
     "output_type": "display_data"
    }
   ],
   "source": [
    "# Grafica - Pregunta 1:\n",
    "top = 5 # Top 5 - Campos Productores en 2020\n",
    "\n",
    "# Obtener nombre de campos y valores de produccion para graficar:\n",
    "query1 = df_2018_2020.loc[df_2018_2020['año'] == 2020].groupby('campo').sum().sort_values('produccion',ascending = False)\n",
    "\n",
    "# Grafica\n",
    "plt.bar(query1.index[0:top],query1['produccion'].values[0:top]/1E6)\n",
    "plt.xticks(query1.index[0:top],fontsize = 10, rotation = 'vertical')\n",
    "plt.xlabel('Campos Productores')\n",
    "plt.ylabel('Produccion en 2020 [MMstb]')\n",
    "plt.title('Top 5: Campos con mayor producción - 2020')\n",
    "\n",
    "print('Grafico - Pregunta 1:\\n')\n",
    "plt.show()"
   ]
  },
  {
   "cell_type": "markdown",
   "metadata": {},
   "source": [
    "## Pregunta 2"
   ]
  },
  {
   "cell_type": "code",
   "execution_count": 5,
   "metadata": {},
   "outputs": [],
   "source": [
    "# Ordenar Operadoras por numero de CAMPOS operados en CASANARE\n",
    "num_campos = 5 # numero minimo de CAMPOS donde opera\n",
    "\n",
    "# filtrar operadoras por: año = 2018, Departamento = Casanare: \n",
    "operadoras = df_2018_2020.loc[(df_2018_2020['año'] == 2018) & (df_2018_2020['departamento'] == 'CASANARE')].groupby(['operadora','campo','año']).sum() \n",
    "lista_operadoras_ordenadas = operadoras.groupby('operadora').size().sort_values(ascending = False) # ordenar de mayor a menor\n",
    "top_operadoras = lista_operadoras_ordenadas[lista_operadoras_ordenadas > num_campos] # filtrar: operacion en mas de: num_campos > 5"
   ]
  },
  {
   "cell_type": "code",
   "execution_count": 6,
   "metadata": {},
   "outputs": [
    {
     "name": "stdout",
     "output_type": "stream",
     "text": [
      "Respuesta - Pregunta 2:\n",
      "\n",
      "Número de Compañías con producción en más de 5 campos en Casanare (año 2018): 8\n",
      "\n",
      "\n",
      "Nombre de Operadoras:                  Num. Campos donde Opera:\n",
      "operadora\n",
      "PERENCO COLOMBIA LIMITED                            34\n",
      "Frontera Energy Colombia Corp Sucursal Colombia     34\n",
      "GEOPARK COLOMBIA S.A.S.                             20\n",
      "ECOPETROL S.A.                                       9\n",
      "PAREX RESOURCES COLOMBIA LTD. SUCURSAL               7\n",
      "CEPSA COLOMBIA S.A.                                  6\n",
      "COLOMBIA ENERGY DEVELOPMENT CO                       6\n",
      "NEW GRANADA ENERGY CORPORATION SUCURSAL COLOMBIA     6\n",
      "dtype: int64\n"
     ]
    }
   ],
   "source": [
    "#Numero de Companias con Produccion en mas de 5 campos en Casanare \n",
    "print('Respuesta - Pregunta 2:\\n')\n",
    "print('Número de Compañías con producción en más de 5 campos en Casanare (año 2018):', top_operadoras.count())\n",
    "print('\\n')\n",
    "print('Nombre de Operadoras:                  Num. Campos donde Opera:')\n",
    "print(top_operadoras)"
   ]
  },
  {
   "cell_type": "code",
   "execution_count": 7,
   "metadata": {},
   "outputs": [
    {
     "name": "stdout",
     "output_type": "stream",
     "text": [
      "Grafica - Pregunta 2:\n",
      "\n"
     ]
    },
    {
     "data": {
      "image/png": "[encoded data removed]",
      "text/plain": [
       "<Figure size 432x288 with 1 Axes>"
      ]
     },
     "metadata": {
      "needs_background": "light"
     },
     "output_type": "display_data"
    }
   ],
   "source": [
    "# Grafica - Pregunta 2:\n",
    "num_campos = 5 # numero minimo de CAMPOS donde opera\n",
    "\n",
    "x = top_operadoras.index # Companias (Operadoras)\n",
    "y = top_operadoras.values # Numero de CAMPOS donde Operan\n",
    "\n",
    "bars = plt.bar(x, height = y, width = 0.7)\n",
    "xlocs, xlabs = plt.xticks()\n",
    "xlocs=[i for i in x]\n",
    "xlabs=[i for i in x]\n",
    "plt.xticks(xlocs, xlabs)\n",
    "\n",
    "for bar in bars:\n",
    "    yval = bar.get_height()\n",
    "    plt.text(bar.get_x(), yval - 2, yval, fontsize = 10)\n",
    "\n",
    "plt.xticks(top_operadoras.index,fontsize = 10, rotation = 'vertical')\n",
    "plt.xlabel('Operadoras')\n",
    "plt.ylabel('Número de Campos')\n",
    "plt.title('Compañías (Operadoras) con Producción en más de 5 campos en Casanare - 2018\\n')\n",
    "\n",
    "print('Grafica - Pregunta 2:\\n')\n",
    "plt.show()"
   ]
  },
  {
   "cell_type": "markdown",
   "metadata": {},
   "source": [
    "## Pregunta 3"
   ]
  },
  {
   "cell_type": "code",
   "execution_count": 8,
   "metadata": {},
   "outputs": [
    {
     "name": "stdout",
     "output_type": "stream",
     "text": [
      "Respuesta - Pregunta 3: \n",
      "\n",
      "TOP 5 Contratos con más alta producción [MMstb] en 2018:\n"
     ]
    },
    {
     "data": {
      "text/html": [
       "<div>\n",
       "<style scoped>\n",
       "    .dataframe tbody tr th:only-of-type {\n",
       "        vertical-align: middle;\n",
       "    }\n",
       "\n",
       "    .dataframe tbody tr th {\n",
       "        vertical-align: top;\n",
       "    }\n",
       "\n",
       "    .dataframe thead th {\n",
       "        text-align: right;\n",
       "    }\n",
       "</style>\n",
       "<table border=\"1\" class=\"dataframe\">\n",
       "  <thead>\n",
       "    <tr style=\"text-align: right;\">\n",
       "      <th></th>\n",
       "      <th></th>\n",
       "      <th>produccion</th>\n",
       "    </tr>\n",
       "    <tr>\n",
       "      <th>contrato</th>\n",
       "      <th>año</th>\n",
       "      <th></th>\n",
       "    </tr>\n",
       "  </thead>\n",
       "  <tbody>\n",
       "    <tr>\n",
       "      <th>CUBARRAL</th>\n",
       "      <th>2018</th>\n",
       "      <td>2.177189</td>\n",
       "    </tr>\n",
       "    <tr>\n",
       "      <th>RUBIALES</th>\n",
       "      <th>2018</th>\n",
       "      <td>1.433612</td>\n",
       "    </tr>\n",
       "    <tr>\n",
       "      <th>LLA 34</th>\n",
       "      <th>2018</th>\n",
       "      <td>0.725580</td>\n",
       "    </tr>\n",
       "    <tr>\n",
       "      <th>QUIFA</th>\n",
       "      <th>2018</th>\n",
       "      <td>0.554438</td>\n",
       "    </tr>\n",
       "    <tr>\n",
       "      <th>LA CIRA INFANTAS</th>\n",
       "      <th>2018</th>\n",
       "      <td>0.542415</td>\n",
       "    </tr>\n",
       "  </tbody>\n",
       "</table>\n",
       "</div>"
      ],
      "text/plain": [
       "                       produccion\n",
       "contrato         año             \n",
       "CUBARRAL         2018    2.177189\n",
       "RUBIALES         2018    1.433612\n",
       "LLA 34           2018    0.725580\n",
       "QUIFA            2018    0.554438\n",
       "LA CIRA INFANTAS 2018    0.542415"
      ]
     },
     "execution_count": 8,
     "metadata": {},
     "output_type": "execute_result"
    }
   ],
   "source": [
    "# Pregunta 3\n",
    "# Ordenar Contratos por Produccion (mayor a menor) en el 2018\n",
    "q3 = df_2018_2020.loc[df_2018_2020['año'] == 2018].groupby(['contrato','año']).sum().sort_values('produccion',ascending = False).head(5)\n",
    "q3 /= 1e6\n",
    "\n",
    "print('Respuesta - Pregunta 3: \\n')\n",
    "print('TOP 5 Contratos con más alta producción [MMstb] en 2018:')\n",
    "q3"
   ]
  },
  {
   "cell_type": "code",
   "execution_count": 9,
   "metadata": {},
   "outputs": [
    {
     "name": "stdout",
     "output_type": "stream",
     "text": [
      "Grafica - Pregunta 3: \n",
      "\n"
     ]
    },
    {
     "data": {
      "image/png": "[encoded data removed]",
      "text/plain": [
       "<Figure size 432x288 with 1 Axes>"
      ]
     },
     "metadata": {
      "needs_background": "light"
     },
     "output_type": "display_data"
    }
   ],
   "source": [
    "# Grafica - Pregunta 3:\n",
    "top = 5 # Top 5 - CONTRATOS Productores en 2020\n",
    "\n",
    "# Obtener nombre de contratos y valores de produccion para graficar:\n",
    "query3 = df_2018_2020.loc[df_2018_2020['año'] == 2018].groupby(['contrato']).sum().sort_values('produccion',ascending = False)\n",
    "\n",
    "# Grafica\n",
    "plt.bar(query3.index[0:top],query3['produccion'].values[0:top]/1E6)\n",
    "plt.xticks(query3.index[0:top],fontsize = 10, rotation = 'vertical')\n",
    "plt.xlabel('CONTRATOS')\n",
    "plt.ylabel('Produccion en 2018 [MMstb]')\n",
    "plt.title('Top 5: Contratos con mayor producción [MMstb] - 2018')\n",
    "\n",
    "print('Grafica - Pregunta 3: \\n')\n",
    "plt.show()"
   ]
  },
  {
   "cell_type": "markdown",
   "metadata": {},
   "source": [
    "## Pregunta 4"
   ]
  },
  {
   "cell_type": "code",
   "execution_count": 10,
   "metadata": {},
   "outputs": [],
   "source": [
    "# Pregunta 4\n",
    "# Ordenar OPERADORAS por Produccion (mayor a menor) en Agosto (2019)\n",
    "query4 = df_2018_2020.loc[(df_2018_2020['año'] == 2019) & (df_2018_2020['mes'] == 'ago' )].groupby('operadora').sum().sort_values('produccion',ascending = False)"
   ]
  },
  {
   "cell_type": "code",
   "execution_count": 11,
   "metadata": {},
   "outputs": [
    {
     "name": "stdout",
     "output_type": "stream",
     "text": [
      "Respuesta - Pregunta 4: \n",
      "\n",
      "Top 10 Operadoras con más alta producción en Agosto - 2019:\n",
      "\n",
      "\n",
      "Operadora:                                   Produccion [barriles]:\n",
      "operadora\n",
      "ECOPETROL S.A.                                     473986.41\n",
      "Frontera Energy Colombia Corp Sucursal Colombia     81441.68\n",
      "GEOPARK COLOMBIA S.A.S.                             69154.42\n",
      "OCCIDENTAL DE COLOMBIA LLC                          53299.12\n",
      "EQUION ENERGÍA LIMITED                              34950.01\n",
      "GRAN TIERRA ENERGY COLOMBIA LTD                     29555.20\n",
      "MANSAROVAR ENERGY COLOMBIA LTD                      25256.75\n",
      "HOCOL S.A.                                          19614.02\n",
      "PAREX RESOURCES COLOMBIA LTD. SUCURSAL              15727.97\n",
      "CEPSA COLOMBIA S.A.                                 12702.09\n",
      "Name: produccion, dtype: float64\n"
     ]
    }
   ],
   "source": [
    "print('Respuesta - Pregunta 4: \\n')\n",
    "print('Top 10 Operadoras con más alta producción en Agosto - 2019:')\n",
    "print('\\n')\n",
    "print('Operadora:                                   Produccion [barriles]:')\n",
    "print(query4.head(10)['produccion'])"
   ]
  },
  {
   "cell_type": "code",
   "execution_count": 12,
   "metadata": {},
   "outputs": [
    {
     "name": "stdout",
     "output_type": "stream",
     "text": [
      "Grafica - Pregunta 4: \n",
      "\n"
     ]
    },
    {
     "data": {
      "image/png": "[encoded data removed]",
      "text/plain": [
       "<Figure size 432x288 with 1 Axes>"
      ]
     },
     "metadata": {
      "needs_background": "light"
     },
     "output_type": "display_data"
    }
   ],
   "source": [
    "# Grafica - Pregunta 4:\n",
    "top = 10 # Top 10 - OPERADORAS por produccion en Agosto, 2019\n",
    "\n",
    "plt.bar(query4.index[0:top],query4['produccion'].values[0:top]/1E6)\n",
    "\n",
    "plt.xticks(query4.index[0:top],fontsize = 10, rotation = 'vertical')\n",
    "plt.xlabel('OPERADORAS')\n",
    "plt.ylabel('Produccion en Agosto (2019) [MMstb]')\n",
    "plt.title('Top 10: OPERADORAS con mayor producción - Agosto 2019')\n",
    "\n",
    "print('Grafica - Pregunta 4: \\n')\n",
    "plt.show()"
   ]
  },
  {
   "cell_type": "markdown",
   "metadata": {},
   "source": [
    "## Pregunta 5"
   ]
  },
  {
   "cell_type": "code",
   "execution_count": 13,
   "metadata": {},
   "outputs": [
    {
     "name": "stdout",
     "output_type": "stream",
     "text": [
      "Produccion en Trimestres 1 y 2 (2018, 2019, 2020):\n"
     ]
    },
    {
     "data": {
      "text/html": [
       "<div>\n",
       "<style scoped>\n",
       "    .dataframe tbody tr th:only-of-type {\n",
       "        vertical-align: middle;\n",
       "    }\n",
       "\n",
       "    .dataframe tbody tr th {\n",
       "        vertical-align: top;\n",
       "    }\n",
       "\n",
       "    .dataframe thead th {\n",
       "        text-align: right;\n",
       "    }\n",
       "</style>\n",
       "<table border=\"1\" class=\"dataframe\">\n",
       "  <thead>\n",
       "    <tr style=\"text-align: right;\">\n",
       "      <th></th>\n",
       "      <th>año</th>\n",
       "      <th>Trimestre1</th>\n",
       "      <th>Trimestre2</th>\n",
       "    </tr>\n",
       "  </thead>\n",
       "  <tbody>\n",
       "    <tr>\n",
       "      <th>0</th>\n",
       "      <td>2018</td>\n",
       "      <td>2.540703e+06</td>\n",
       "      <td>2.594491e+06</td>\n",
       "    </tr>\n",
       "    <tr>\n",
       "      <th>1</th>\n",
       "      <td>2019</td>\n",
       "      <td>2.676538e+06</td>\n",
       "      <td>2.677717e+06</td>\n",
       "    </tr>\n",
       "    <tr>\n",
       "      <th>2</th>\n",
       "      <td>2020</td>\n",
       "      <td>2.619417e+06</td>\n",
       "      <td>2.258345e+06</td>\n",
       "    </tr>\n",
       "  </tbody>\n",
       "</table>\n",
       "</div>"
      ],
      "text/plain": [
       "    año    Trimestre1    Trimestre2\n",
       "0  2018  2.540703e+06  2.594491e+06\n",
       "1  2019  2.676538e+06  2.677717e+06\n",
       "2  2020  2.619417e+06  2.258345e+06"
      ]
     },
     "execution_count": 13,
     "metadata": {},
     "output_type": "execute_result"
    }
   ],
   "source": [
    "# Calcular produccion Total por TRIMESTRES\n",
    "q5_t1 = df_2018_2020.loc[(df_2018_2020['mes'] == 'ene') | (df_2018_2020['mes'] == 'feb' )| (df_2018_2020['mes'] == 'mar')].groupby('año',as_index = False).sum() # Trimestre 1\n",
    "q5_t2 = df_2018_2020.loc[(df_2018_2020['mes'] == 'abr') | (df_2018_2020['mes'] == 'may' )| (df_2018_2020['mes'] == 'jun')].groupby('año',as_index = False).sum() # Trimestre 2\n",
    "\n",
    "query5_t1_t2 = pd.concat([q5_t1, q5_t2['produccion']], axis=1) # unir produccion de Trim1 y Trim2\n",
    "query5_t1_t2.columns = ['año','Trimestre1','Trimestre2'] # nombre de las columnas\n",
    "\n",
    "print('Produccion en Trimestres 1 y 2 (2018, 2019, 2020):')\n",
    "query5_t1_t2"
   ]
  },
  {
   "cell_type": "code",
   "execution_count": 14,
   "metadata": {},
   "outputs": [
    {
     "name": "stdout",
     "output_type": "stream",
     "text": [
      "Respuesta - Pregunta 3: Grafica Analisis Comparativo: \n",
      "\n"
     ]
    },
    {
     "data": {
      "image/png": "[encoded data removed]",
      "text/plain": [
       "<Figure size 432x288 with 1 Axes>"
      ]
     },
     "metadata": {
      "needs_background": "light"
     },
     "output_type": "display_data"
    }
   ],
   "source": [
    "# Grafica: Pregunta 5\n",
    "# Analisis Comparativo: Produccion en Trimestres 1 y 2 (2019 y 2020)\n",
    "\n",
    "x = query5_t1_t2.columns[1:] # Trimestre 1 y 2\n",
    "y19 = query5_t1_t2.iloc[1][1:]/1e6 # Produccion total [MMstb] por trimestre - 2019\n",
    "y20 = query5_t1_t2.iloc[2][1:]/1e6 # Produccion total [MMstb] por trimestre - 2020\n",
    "\n",
    "plt.plot(y19,marker = 'D', label = '2019')\n",
    "plt.plot(y20,marker = 'D', label = '2020')\n",
    "plt.xticks(x)\n",
    "plt.legend()\n",
    "plt.xlabel('TRIMESTRES')\n",
    "plt.ylabel('Produccion Total por trimestre [MMstb]')\n",
    "plt.title('Comparación de Producción Trimestres 1 y 2 (Años: 2019 y 2020)\\nTrimestre 1: Enero a Marzo\\nTrimestre 2: Abril a Junio')\n",
    "\n",
    "print('Respuesta - Pregunta 3: Grafica Analisis Comparativo: \\n')\n",
    "plt.show()"
   ]
  }
 ],
 "metadata": {
  "kernelspec": {
   "display_name": "Python 3",
   "language": "python",
   "name": "python3"
  },
  "language_info": {
   "codemirror_mode": {
    "name": "ipython",
    "version": 3
   },
   "file_extension": ".py",
   "mimetype": "text/x-python",
   "name": "python",
   "nbconvert_exporter": "python",
   "pygments_lexer": "ipython3",
   "version": "3.8.3"
  }
 },
 "nbformat": 4,
 "nbformat_minor": 4
}
