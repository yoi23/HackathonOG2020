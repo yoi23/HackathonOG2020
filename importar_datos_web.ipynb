{
 "cells": [
  {
   "cell_type": "markdown",
   "metadata": {},
   "source": [
    "# Entregable 1: Archivo de lectura de Datos Oficiales y Datos Blind"
   ]
  },
  {
   "cell_type": "markdown",
   "metadata": {},
   "source": [
    "## Importar Datos desde Sitio Web de la ANH (Datos Oficiales)"
   ]
  },
  {
   "cell_type": "code",
   "execution_count": null,
   "metadata": {},
   "outputs": [],
   "source": [
    "import os\n",
    "import pandas as pd\n",
    "import re\n",
    "import requests\n",
    "import numpy as np\n",
    "import matplotlib.pyplot as plt\n",
    "import time\n",
    "from multiprocessing.pool import ThreadPool\n",
    "from progress.bar import ChargingBar\n",
    "\n",
    "#*******************************************************************************************\n",
    "# Crear Clase para Importar datos desde pagina web de la ANH\n",
    "class Importar_Datos_Oficiales:\n",
    "\n",
    "\n",
    "    def __init__(self):\n",
    "\n",
    "        BASE_URL = 'http://www.anh.gov.co/Operaciones-Regal%c3%adas-y-Participaciones/Sistema-Integrado-de-Operaciones' #direccion url de la ANH\n",
    "        # Url's de los archivos de produccion de crudo\n",
    "        file2013_url = '/Documents/Producci%C3%B3n%20fiscalizada%20de%20crudo%20a%C3%B1o%202013.xlsx'\n",
    "        file2014_url = '/Documents/Producci%C3%B3n%20fiscalizada%20de%20crudo_2014_31122014.xlsx'\n",
    "        file2015_url = '/Documents/Producci%C3%B3n%20Fiscalizada%20Crudo%202015.xlsx'\n",
    "        file2016_url = '/Documents/Producci%C3%B3n%20fiscalizada%20crudo%202016_18042018.xls'\n",
    "        file2017_url = '/Documents/Produccion-fiscalizada-crudo-2017.xlsx'\n",
    "        file2018_url = '/Documents/Producci%c3%b3n%20Fiscalizada%20Crudo%202018.xlsx' \n",
    "        file2019_url = '/Documents/Producci%c3%b3n%20Fiscalizada%20Crudo%202019-DIC.xlsx'\n",
    "        file2020_url = '/Documentos%20compartidos/Producci%c3%b3n%20Fiscalizada%20Crudo%202020%20Agosto.xlsx'\n",
    "        \n",
    "        self.URLS = {'Produccion_Fiscalizada_Crudo_2018': f'{BASE_URL}'+file2018_url,\n",
    "                'Produccion_Fiscalizada_Crudo_2019': f'{BASE_URL}'+file2019_url,\n",
    "                'Produccion_Fiscalizada_Crudo_2020':f'{BASE_URL}'+file2020_url,\n",
    "                'Produccion_Fiscalizada_Crudo_2017':f'{BASE_URL}'+file2017_url,\n",
    "                'Produccion_Fiscalizada_Crudo_2016':f'{BASE_URL}'+file2016_url,\n",
    "                'Produccion_Fiscalizada_Crudo_2015':f'{BASE_URL}'+file2015_url,\n",
    "                'Produccion_Fiscalizada_Crudo_2014':f'{BASE_URL}'+file2014_url,\n",
    "                'Produccion_Fiscalizada_Crudo_2013':f'{BASE_URL}'+file2013_url,\n",
    "        }\n",
    "\n",
    "\n",
    "        self.data = {case:pd.read_excel(url,usecols = 'A:Q') for case, url in self.URLS.items()}\n",
    "#*******************************************************************************************\n",
    "\n",
    "# Obtener datos desde la pagina web de la ANH\n",
    "datos_importados = Importar_Datos_Oficiales()\n",
    "\n",
    "# Guardar datos importados en DataFrames para posterior procesamiento\n",
    "df_2013 = datos_importados.data['Produccion_Fiscalizada_Crudo_2013']\n",
    "df_2014 = datos_importados.data['Produccion_Fiscalizada_Crudo_2014']\n",
    "df_2015 = datos_importados.data['Produccion_Fiscalizada_Crudo_2015']\n",
    "df_2016 = datos_importados.data['Produccion_Fiscalizada_Crudo_2016']\n",
    "df_2017 = datos_importados.data['Produccion_Fiscalizada_Crudo_2017']\n",
    "df_2018 = datos_importados.data['Produccion_Fiscalizada_Crudo_2018']\n",
    "df_2019 = datos_importados.data['Produccion_Fiscalizada_Crudo_2019']\n",
    "df_2020 = datos_importados.data['Produccion_Fiscalizada_Crudo_2020']"
   ]
  },
  {
   "cell_type": "code",
   "execution_count": null,
   "metadata": {},
   "outputs": [],
   "source": [
    "df_2013.iloc[1:20]"
   ]
  },
  {
   "cell_type": "code",
   "execution_count": null,
   "metadata": {},
   "outputs": [],
   "source": [
    "# Funcion para limpieza del archivo excel y poner en formato\n",
    "def format_excel(df_excel_raw, year = 2020):\n",
    "    df_excel_raw.dropna(inplace = True) #eliminar filas NO validas\n",
    "    df_excel_raw.rename(columns=df_excel_raw.iloc[0],inplace = True) #reemplazar el nombre de las columnas\n",
    "    df_excel_raw.drop(df_excel_raw.index[0], inplace = True)\n",
    "    df_excel_raw.reset_index(drop = True, inplace = True) # reiniciar el indexado de las filas\n",
    "    df_excel_raw.columns = df_excel_raw.columns.str.strip().str.lower() # convertir nombre de columnas a minusculas y sin espacios\n",
    "    \n",
    "    meses = ['ene','feb','mar','abr','may','jun','jul','ago','sep','oct','nov','dic']\n",
    "        \n",
    "    for mes in meses:\n",
    "        if (0 in np.core.defchararray.find( df_excel_raw.columns.values.astype(str), mes)):\n",
    "            # reemplazar nombre de Mes a nombre corto (Enero --> ene)\n",
    "            df_excel_raw.columns.values[[i for i,item in enumerate(df_excel_raw.columns.values) if mes in item]] = mes            \n",
    "\n",
    "        else:\n",
    "            # Si no hay datos para el mes, anadir una columna de ceros para ese mes\n",
    "            df_excel_raw[mes] = pd.Series([0 for x in range(len(df_excel_raw.index))], index=df_excel_raw.index)\n",
    "            \n",
    "    # anadir columna con año para identificacion\n",
    "    df_excel_raw['año'] = pd.Series([year for x in range(len(df_excel_raw.index))], index=df_excel_raw.index)\n",
    "    \n",
    "    return df_excel_raw"
   ]
  },
  {
   "cell_type": "code",
   "execution_count": null,
   "metadata": {},
   "outputs": [],
   "source": [
    "format_excel(df_2020,2020)\n",
    "format_excel(df_2019,2019)\n",
    "format_excel(df_2018,2018)\n",
    "format_excel(df_2017,2017)\n",
    "format_excel(df_2016,2016)\n",
    "format_excel(df_2015,2015)\n",
    "format_excel(df_2014,2014)\n",
    "format_excel(df_2013,2013)\n",
    "\n",
    "df_2020.head(5) #mostrar produccion de crudo - 2020"
   ]
  },
  {
   "cell_type": "code",
   "execution_count": null,
   "metadata": {},
   "outputs": [],
   "source": [
    "# Unir produccion desde 2018 a 2020 en Un unico DataFrame\n",
    "df_2018_2020 = pd.concat([df_2020, df_2019, df_2018], ignore_index = True)\n",
    "df_2018_2020.head()"
   ]
  },
  {
   "cell_type": "code",
   "execution_count": null,
   "metadata": {},
   "outputs": [],
   "source": [
    "# convertir datos de produccion a formato numerico\n",
    "for mes in ['ene','feb','mar','abr','may','jun','jul','ago','sep','oct','nov','dic']:\n",
    "    df_2018_2020[mes] = pd.to_numeric(df_2018_2020[mes])"
   ]
  },
  {
   "cell_type": "code",
   "execution_count": null,
   "metadata": {},
   "outputs": [],
   "source": [
    "# Formato LONG: Datos de Produccion de CRUDO (2018 a 2020)\n",
    "df_2018_2020_LONG = pd.melt(df_2018_2020, id_vars=['departamento','municipio','operadora','contrato','campo','año'], var_name = 'mes', value_name = 'produccion')\n",
    "df_2018_2020_LONG.head()"
   ]
  },
  {
   "cell_type": "code",
   "execution_count": null,
   "metadata": {},
   "outputs": [],
   "source": [
    "# Archivo de Salida (Output): Datos de Produccion de Crudo (2018 a 2020):\n",
    "\n",
    "# Crear Carpeta 'Datos_salida' donde guardar archivos de salida\n",
    "path = os.getcwd()\n",
    "print(path)\n",
    "dir = os.path.join(path,\"Datos_salida\")\n",
    "if not os.path.exists(dir):\n",
    "    os.mkdir(dir)\n",
    "\n",
    "    \n",
    "# Exportar a .xlsx - produccion 2018 a 2020\n",
    "df_2018_2020_LONG.to_excel('Datos_salida/Produccion_Fiscalizada_Crudo_DatosOficiales_2018-2020.xlsx', index = False)"
   ]
  },
  {
   "cell_type": "markdown",
   "metadata": {},
   "source": [
    "## Importar Datos No Oficiales desde Repositorio Hackathon O&G (GitHub)"
   ]
  },
  {
   "cell_type": "code",
   "execution_count": null,
   "metadata": {},
   "outputs": [],
   "source": [
    "#*******************************************************************************************\n",
    "# Crear Clase para Importar datos blind desde Repositorio Hackathon O&G \n",
    "class Importar_Datos_Blind:\n",
    "\n",
    "\n",
    "    def __init__(self):\n",
    "\n",
    "        BASE_URL = 'https://github.com/specolombiahackathon/202010' #url del repositorio (incluir raw) con datos blind\n",
    "        # url's de los datos de produccion (blind)\n",
    "        file2013_url = 'path_file_2018'\n",
    "        file2014_url = 'path_file_2018'\n",
    "        file2015_url = 'path_file_2018'\n",
    "        file2016_url = 'path_file_2018'\n",
    "        file2017_url = 'path_file_2018'\n",
    "        file2018_url = 'path_file_2018' \n",
    "        file2019_url = 'path_file_2019'\n",
    "        file2020_url = 'path_file_2020'\n",
    "        \n",
    "        self.URLS = {'Produccion_Fiscalizada_Crudo_2018_blind': f'{BASE_URL}'+file2018_url,\n",
    "                'Produccion_Fiscalizada_Crudo_2019_blind': f'{BASE_URL}'+file2019_url,\n",
    "                'Produccion_Fiscalizada_Crudo_2020_blind':f'{BASE_URL}'+file2020_url,\n",
    "                'Produccion_Fiscalizada_Crudo_2017_blind':f'{BASE_URL}'+file2017_url,\n",
    "                'Produccion_Fiscalizada_Crudo_2016_blind':f'{BASE_URL}'+file2016_url,\n",
    "                'Produccion_Fiscalizada_Crudo_2015_blind':f'{BASE_URL}'+file2015_url,\n",
    "                'Produccion_Fiscalizada_Crudo_2014_blind':f'{BASE_URL}'+file2014_url,\n",
    "                'Produccion_Fiscalizada_Crudo_2013_blind':f'{BASE_URL}'+file2013_url,\n",
    "        }\n",
    "\n",
    "\n",
    "        self.data = {case:pd.read_excel(url,usecols = 'A:Q') for case, url in self.URLS.items()}\n",
    "#*******************************************************************************************\n",
    "\n",
    "# Obtener datos desde la pagina web de la ANH\n",
    "datos_importados_blind = Importar_Datos_Blind()\n",
    "\n",
    "# Guardar datos importados en DataFrames para posterior procesamiento\n",
    "df_2013_blind = datos_importados_blind.data['Produccion_Fiscalizada_Crudo_2013']\n",
    "df_2014_blind = datos_importados_blind.data['Produccion_Fiscalizada_Crudo_2014']\n",
    "df_2015_blind = datos_importados_blind.data['Produccion_Fiscalizada_Crudo_2015']\n",
    "df_2016_blind = datos_importados_blind.data['Produccion_Fiscalizada_Crudo_2016']\n",
    "df_2017_blind = datos_importados_blind.data['Produccion_Fiscalizada_Crudo_2017']\n",
    "df_2018_blind = datos_importados_blind.data['Produccion_Fiscalizada_Crudo_2018']\n",
    "df_2019_blind = datos_importados_blind.data['Produccion_Fiscalizada_Crudo_2019']\n",
    "df_2020_blind = datos_importados_blind.data['Produccion_Fiscalizada_Crudo_2020']\n"
   ]
  },
  {
   "cell_type": "code",
   "execution_count": null,
   "metadata": {},
   "outputs": [],
   "source": [
    "format_excel(df_2020_blind,2020)\n",
    "format_excel(df_2019_blind,2019)\n",
    "format_excel(df_2018_blind,2018)\n",
    "format_excel(df_2017_blind,2017)\n",
    "format_excel(df_2016_blind,2016)\n",
    "format_excel(df_2015_blind,2015)\n",
    "format_excel(df_2014_blind,2014)\n",
    "format_excel(df_2013_blind,2013)\n",
    "df_2020_blind.head(5) #mostrar produccion de crudo - 2020"
   ]
  },
  {
   "cell_type": "code",
   "execution_count": null,
   "metadata": {},
   "outputs": [],
   "source": [
    "# Unir produccion desde 2018 a 2020 en Un unico DataFrame\n",
    "df_2013_2020_blind = pd.concat([df_2020_blind, df_2019_blind, df_2018_blind,df_2017_blind,df_2016_blind,df_2015_blind,df_2014_blind,df_2013_blind], ignore_index = True)\n",
    "df_2013_2020_blind.head()"
   ]
  },
  {
   "cell_type": "code",
   "execution_count": null,
   "metadata": {},
   "outputs": [],
   "source": [
    "# convertir datos de produccion a formato numerico\n",
    "for mes in ['ene','feb','mar','abr','may','jun','jul','ago','sep','oct','nov','dic']:\n",
    "    df_2013_2020_blind[mes] = pd.to_numeric(df_2013_2020_blind[mes])"
   ]
  },
  {
   "cell_type": "code",
   "execution_count": null,
   "metadata": {},
   "outputs": [],
   "source": [
    "# Formato LONG: Datos de Produccion de CRUDO (2013 a 2020)\n",
    "df_2013_2020_LONG_blind = pd.melt(df_2013_2020, id_vars=['departamento','municipio','operadora','contrato','campo','cuenca','empresa','año'], var_name = 'mes', value_name = 'produccion')\n",
    "df_2013_2020_LONG_blind.head()"
   ]
  },
  {
   "cell_type": "code",
   "execution_count": null,
   "metadata": {},
   "outputs": [],
   "source": [
    "# Archivo de Salida (Output): Datos de Produccion de Crudo (2013 a 2020):\n",
    "\n",
    "# Crear Carpeta 'Datos_salida' donde guardar archivos de salida\n",
    "path = os.getcwd()\n",
    "print(path)\n",
    "dir = os.path.join(path,\"Datos_salida\")\n",
    "if not os.path.exists(dir):\n",
    "    os.mkdir(dir)\n",
    "\n",
    "    \n",
    "# Exportar a .xlsx - produccion 2013 a 2020\n",
    "df_2013_2020_LONG_blind.to_excel('Datos_salida/Produccion_Fiscalizada_Crudo_Blind_2013-2020.xlsx', index = False)"
   ]
  }
 ],
 "metadata": {
  "kernelspec": {
   "display_name": "Python 3",
   "language": "python",
   "name": "python3"
  },
  "language_info": {
   "codemirror_mode": {
    "name": "ipython",
    "version": 3
   },
   "file_extension": ".py",
   "mimetype": "text/x-python",
   "name": "python",
   "nbconvert_exporter": "python",
   "pygments_lexer": "ipython3",
   "version": "3.8.3"
  }
 },
 "nbformat": 4,
 "nbformat_minor": 4
}
